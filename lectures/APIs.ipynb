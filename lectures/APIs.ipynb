{
 "cells": [
  {
   "cell_type": "markdown",
   "id": "4e66d098",
   "metadata": {},
   "source": [
    "# Intro APIs"
   ]
  },
  {
   "cell_type": "code",
   "execution_count": 1,
   "id": "2c5828ac",
   "metadata": {},
   "outputs": [
    {
     "name": "stdout",
     "output_type": "stream",
     "text": [
      "<Response [200]>\n"
     ]
    }
   ],
   "source": [
    "from pyjstat import pyjstat\n",
    "import requests\n",
    "\n",
    "# API for Statistics Norway, table of traffic accidents\n",
    "POST_URL = 'https://data.ssb.no/api/v0/en/table/06794'\n",
    "# Paste the URL into a browser to see all the options\n",
    "\n",
    "# The payload is the JSON-stat dataset identifier\n",
    "payload = { \"query\": [{ \"code\": \"Skadegrad\", \"selection\": { \"filter\": \"item\", \"values\": [ \"01\", \"20\", \"02\", \"04\", \"05\" ] } }, \n",
    "                      { \"code\": \"Kjonn\", \"selection\": { \"filter\": \"item\", \"values\": [ \"1\", \"2\" ] } }, \n",
    "                      { \"code\": \"Trafikkantgruppe\", \"selection\": { \"filter\": \"item\", \"values\": [ \"1\", \"2\", \"3\", \"7\", \"8\" ] } }, \n",
    "                      { \"code\": \"ContentsCode\", \"selection\": { \"filter\": \"item\", \"values\": [ \"SkaddDrept\" ] } }, \n",
    "                      { \"code\": \"Tid\", \"selection\": { \"filter\": \"item\", \"values\": [ \"1999M01\", \"1999M02\", \"1999M03\", \"2024M06\", \"2024M07\" ] } } \n",
    "                      ], \n",
    "                      \"response\": { \"format\": \"json-stat2\" } }\n",
    "\n",
    "result = requests.post(POST_URL, json = payload)\n",
    "print(result) # 200 = OK"
   ]
  },
  {
   "cell_type": "code",
   "execution_count": 2,
   "id": "5a2ce79f",
   "metadata": {},
   "outputs": [
    {
     "name": "stdout",
     "output_type": "stream",
     "text": [
      "(250, 6)\n"
     ]
    },
    {
     "data": {
      "text/html": [
       "<div>\n",
       "<style scoped>\n",
       "    .dataframe tbody tr th:only-of-type {\n",
       "        vertical-align: middle;\n",
       "    }\n",
       "\n",
       "    .dataframe tbody tr th {\n",
       "        vertical-align: top;\n",
       "    }\n",
       "\n",
       "    .dataframe thead th {\n",
       "        text-align: right;\n",
       "    }\n",
       "</style>\n",
       "<table border=\"1\" class=\"dataframe\">\n",
       "  <thead>\n",
       "    <tr style=\"text-align: right;\">\n",
       "      <th></th>\n",
       "      <th>degree of damage</th>\n",
       "      <th>sex</th>\n",
       "      <th>group of road user</th>\n",
       "      <th>contents</th>\n",
       "      <th>month</th>\n",
       "      <th>value</th>\n",
       "    </tr>\n",
       "  </thead>\n",
       "  <tbody>\n",
       "    <tr>\n",
       "      <th>0</th>\n",
       "      <td>Killed</td>\n",
       "      <td>Females</td>\n",
       "      <td>Drivers of car</td>\n",
       "      <td>Persons killed or injured</td>\n",
       "      <td>1999M01</td>\n",
       "      <td>2</td>\n",
       "    </tr>\n",
       "    <tr>\n",
       "      <th>1</th>\n",
       "      <td>Killed</td>\n",
       "      <td>Females</td>\n",
       "      <td>Drivers of car</td>\n",
       "      <td>Persons killed or injured</td>\n",
       "      <td>1999M02</td>\n",
       "      <td>3</td>\n",
       "    </tr>\n",
       "    <tr>\n",
       "      <th>2</th>\n",
       "      <td>Killed</td>\n",
       "      <td>Females</td>\n",
       "      <td>Drivers of car</td>\n",
       "      <td>Persons killed or injured</td>\n",
       "      <td>1999M03</td>\n",
       "      <td>1</td>\n",
       "    </tr>\n",
       "    <tr>\n",
       "      <th>3</th>\n",
       "      <td>Killed</td>\n",
       "      <td>Females</td>\n",
       "      <td>Drivers of car</td>\n",
       "      <td>Persons killed or injured</td>\n",
       "      <td>2024M06</td>\n",
       "      <td>0</td>\n",
       "    </tr>\n",
       "    <tr>\n",
       "      <th>4</th>\n",
       "      <td>Killed</td>\n",
       "      <td>Females</td>\n",
       "      <td>Drivers of car</td>\n",
       "      <td>Persons killed or injured</td>\n",
       "      <td>2024M07</td>\n",
       "      <td>0</td>\n",
       "    </tr>\n",
       "  </tbody>\n",
       "</table>\n",
       "</div>"
      ],
      "text/plain": [
       "  degree of damage      sex group of road user                   contents  \\\n",
       "0           Killed  Females     Drivers of car  Persons killed or injured   \n",
       "1           Killed  Females     Drivers of car  Persons killed or injured   \n",
       "2           Killed  Females     Drivers of car  Persons killed or injured   \n",
       "3           Killed  Females     Drivers of car  Persons killed or injured   \n",
       "4           Killed  Females     Drivers of car  Persons killed or injured   \n",
       "\n",
       "     month  value  \n",
       "0  1999M01      2  \n",
       "1  1999M02      3  \n",
       "2  1999M03      1  \n",
       "3  2024M06      0  \n",
       "4  2024M07      0  "
      ]
     },
     "execution_count": 2,
     "metadata": {},
     "output_type": "execute_result"
    }
   ],
   "source": [
    "# Extract DataFrame from JSON-stat\n",
    "dataset = pyjstat.Dataset.read(result.text)\n",
    "df = dataset.write('dataframe')\n",
    "print(df.shape)\n",
    "df.head()"
   ]
  },
  {
   "cell_type": "code",
   "execution_count": 3,
   "id": "8ce9c579",
   "metadata": {},
   "outputs": [
    {
     "name": "stdout",
     "output_type": "stream",
     "text": [
      "<Response [200]>\n"
     ]
    }
   ],
   "source": [
    "# New payload with less restrictions\n",
    "payload = { \"query\": [ { \"code\": \"Skadegrad\", \"selection\": { \"filter\": \"all\", \"values\": [ \"*\" ] } }, \n",
    "                      { \"code\": \"Kjonn\", \"selection\": { \"filter\": \"all\", \"values\": [ \"*\" ] } }, \n",
    "                      { \"code\": \"Trafikkantgruppe\", \"selection\": { \"filter\": \"all\", \"values\": [ \"*\" ] } }, \n",
    "                      { \"code\": \"ContentsCode\", \"selection\": { \"filter\": \"all\", \"values\": [ \"*\" ] } }, \n",
    "                      { \"code\": \"Tid\", \"selection\": { \"filter\": \"all\", \"values\": [ \"*\" ] } } \n",
    "                      ], \n",
    "                      \"response\": { \"format\": \"json-stat2\" } }\n",
    "\n",
    "result = requests.post(POST_URL, json = payload)\n",
    "print(result) # 200 = OK"
   ]
  },
  {
   "cell_type": "code",
   "execution_count": 4,
   "id": "13ebba07",
   "metadata": {},
   "outputs": [
    {
     "name": "stdout",
     "output_type": "stream",
     "text": [
      "(30816, 6)\n"
     ]
    },
    {
     "data": {
      "text/html": [
       "<div>\n",
       "<style scoped>\n",
       "    .dataframe tbody tr th:only-of-type {\n",
       "        vertical-align: middle;\n",
       "    }\n",
       "\n",
       "    .dataframe tbody tr th {\n",
       "        vertical-align: top;\n",
       "    }\n",
       "\n",
       "    .dataframe thead th {\n",
       "        text-align: right;\n",
       "    }\n",
       "</style>\n",
       "<table border=\"1\" class=\"dataframe\">\n",
       "  <thead>\n",
       "    <tr style=\"text-align: right;\">\n",
       "      <th></th>\n",
       "      <th>degree of damage</th>\n",
       "      <th>sex</th>\n",
       "      <th>group of road user</th>\n",
       "      <th>contents</th>\n",
       "      <th>month</th>\n",
       "      <th>value</th>\n",
       "    </tr>\n",
       "  </thead>\n",
       "  <tbody>\n",
       "    <tr>\n",
       "      <th>0</th>\n",
       "      <td>Killed</td>\n",
       "      <td>Females</td>\n",
       "      <td>Drivers of car</td>\n",
       "      <td>Persons killed or injured</td>\n",
       "      <td>1999M01</td>\n",
       "      <td>2</td>\n",
       "    </tr>\n",
       "    <tr>\n",
       "      <th>1</th>\n",
       "      <td>Killed</td>\n",
       "      <td>Females</td>\n",
       "      <td>Drivers of car</td>\n",
       "      <td>Persons killed or injured</td>\n",
       "      <td>1999M02</td>\n",
       "      <td>3</td>\n",
       "    </tr>\n",
       "    <tr>\n",
       "      <th>2</th>\n",
       "      <td>Killed</td>\n",
       "      <td>Females</td>\n",
       "      <td>Drivers of car</td>\n",
       "      <td>Persons killed or injured</td>\n",
       "      <td>1999M03</td>\n",
       "      <td>1</td>\n",
       "    </tr>\n",
       "    <tr>\n",
       "      <th>3</th>\n",
       "      <td>Killed</td>\n",
       "      <td>Females</td>\n",
       "      <td>Drivers of car</td>\n",
       "      <td>Persons killed or injured</td>\n",
       "      <td>1999M04</td>\n",
       "      <td>3</td>\n",
       "    </tr>\n",
       "    <tr>\n",
       "      <th>4</th>\n",
       "      <td>Killed</td>\n",
       "      <td>Females</td>\n",
       "      <td>Drivers of car</td>\n",
       "      <td>Persons killed or injured</td>\n",
       "      <td>1999M05</td>\n",
       "      <td>3</td>\n",
       "    </tr>\n",
       "  </tbody>\n",
       "</table>\n",
       "</div>"
      ],
      "text/plain": [
       "  degree of damage      sex group of road user                   contents  \\\n",
       "0           Killed  Females     Drivers of car  Persons killed or injured   \n",
       "1           Killed  Females     Drivers of car  Persons killed or injured   \n",
       "2           Killed  Females     Drivers of car  Persons killed or injured   \n",
       "3           Killed  Females     Drivers of car  Persons killed or injured   \n",
       "4           Killed  Females     Drivers of car  Persons killed or injured   \n",
       "\n",
       "     month  value  \n",
       "0  1999M01      2  \n",
       "1  1999M02      3  \n",
       "2  1999M03      1  \n",
       "3  1999M04      3  \n",
       "4  1999M05      3  "
      ]
     },
     "execution_count": 4,
     "metadata": {},
     "output_type": "execute_result"
    }
   ],
   "source": [
    "dataset = pyjstat.Dataset.read(result.text)\n",
    "df_all = dataset.write('dataframe')\n",
    "print(df_all.shape)\n",
    "df_all.head()"
   ]
  },
  {
   "cell_type": "code",
   "execution_count": 5,
   "id": "fc13c07f",
   "metadata": {},
   "outputs": [
    {
     "name": "stdout",
     "output_type": "stream",
     "text": [
      "<Response [400]>\n"
     ]
    }
   ],
   "source": [
    "# API for Statistics Norway, table of traffic accidents\n",
    "POST_URL = 'https://data.ssb.no/api/v0/en/table/1068'\n",
    "# Paste the URL into a browser to see all the options\n",
    "\n",
    "# The payload is the JSON-stat dataset identifier\n",
    "payload = { \"query\": [], \n",
    "                      \"response\": { \"format\": \"json-stat2\" } }\n",
    "\n",
    "result = requests.post(POST_URL, json = payload)\n",
    "print(result) # 200 = OK"
   ]
  }
 ],
 "metadata": {
  "kernelspec": {
   "display_name": "IND320_SMAA",
   "language": "python",
   "name": "python3"
  },
  "language_info": {
   "codemirror_mode": {
    "name": "ipython",
    "version": 3
   },
   "file_extension": ".py",
   "mimetype": "text/x-python",
   "name": "python",
   "nbconvert_exporter": "python",
   "pygments_lexer": "ipython3",
   "version": "3.11.13"
  }
 },
 "nbformat": 4,
 "nbformat_minor": 5
}
