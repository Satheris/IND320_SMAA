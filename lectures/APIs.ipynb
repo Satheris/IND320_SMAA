{
 "cells": [
  {
   "cell_type": "markdown",
   "id": "4e66d098",
   "metadata": {},
   "source": [
    "# Intro APIs"
   ]
  },
  {
   "cell_type": "code",
   "execution_count": 1,
   "id": "2c5828ac",
   "metadata": {},
   "outputs": [
    {
     "name": "stdout",
     "output_type": "stream",
     "text": [
      "<Response [200]>\n"
     ]
    }
   ],
   "source": [
    "from pyjstat import pyjstat\n",
    "import requests\n",
    "\n",
    "# API for Statistics Norway, table of traffic accidents\n",
    "POST_URL = 'https://data.ssb.no/api/v0/en/table/06794'\n",
    "# Paste the URL into a browser to see all the options\n",
    "\n",
    "# The payload is the JSON-stat dataset identifier\n",
    "payload = { \"query\": [{ \"code\": \"Skadegrad\", \"selection\": { \"filter\": \"item\", \"values\": [ \"01\", \"20\", \"02\", \"04\", \"05\" ] } }, \n",
    "                      { \"code\": \"Kjonn\", \"selection\": { \"filter\": \"item\", \"values\": [ \"1\", \"2\" ] } }, \n",
    "                      { \"code\": \"Trafikkantgruppe\", \"selection\": { \"filter\": \"item\", \"values\": [ \"1\", \"2\", \"3\", \"7\", \"8\" ] } }, \n",
    "                      { \"code\": \"ContentsCode\", \"selection\": { \"filter\": \"item\", \"values\": [ \"SkaddDrept\" ] } }, \n",
    "                      { \"code\": \"Tid\", \"selection\": { \"filter\": \"item\", \"values\": [ \"1999M01\", \"1999M02\", \"1999M03\", \"2024M06\", \"2024M07\" ] } } \n",
    "                      ], \n",
    "                      \"response\": { \"format\": \"json-stat2\" } }\n",
    "\n",
    "result = requests.post(POST_URL, json = payload)\n",
    "print(result) # 200 = OK"
   ]
  },
  {
   "cell_type": "code",
   "execution_count": 2,
   "id": "5a2ce79f",
   "metadata": {},
   "outputs": [
    {
     "name": "stdout",
     "output_type": "stream",
     "text": [
      "(250, 6)\n"
     ]
    },
    {
     "data": {
      "text/html": [
       "<div>\n",
       "<style scoped>\n",
       "    .dataframe tbody tr th:only-of-type {\n",
       "        vertical-align: middle;\n",
       "    }\n",
       "\n",
       "    .dataframe tbody tr th {\n",
       "        vertical-align: top;\n",
       "    }\n",
       "\n",
       "    .dataframe thead th {\n",
       "        text-align: right;\n",
       "    }\n",
       "</style>\n",
       "<table border=\"1\" class=\"dataframe\">\n",
       "  <thead>\n",
       "    <tr style=\"text-align: right;\">\n",
       "      <th></th>\n",
       "      <th>degree of damage</th>\n",
       "      <th>sex</th>\n",
       "      <th>group of road user</th>\n",
       "      <th>contents</th>\n",
       "      <th>month</th>\n",
       "      <th>value</th>\n",
       "    </tr>\n",
       "  </thead>\n",
       "  <tbody>\n",
       "    <tr>\n",
       "      <th>0</th>\n",
       "      <td>Killed</td>\n",
       "      <td>Females</td>\n",
       "      <td>Drivers of car</td>\n",
       "      <td>Persons killed or injured</td>\n",
       "      <td>1999M01</td>\n",
       "      <td>2</td>\n",
       "    </tr>\n",
       "    <tr>\n",
       "      <th>1</th>\n",
       "      <td>Killed</td>\n",
       "      <td>Females</td>\n",
       "      <td>Drivers of car</td>\n",
       "      <td>Persons killed or injured</td>\n",
       "      <td>1999M02</td>\n",
       "      <td>3</td>\n",
       "    </tr>\n",
       "    <tr>\n",
       "      <th>2</th>\n",
       "      <td>Killed</td>\n",
       "      <td>Females</td>\n",
       "      <td>Drivers of car</td>\n",
       "      <td>Persons killed or injured</td>\n",
       "      <td>1999M03</td>\n",
       "      <td>1</td>\n",
       "    </tr>\n",
       "    <tr>\n",
       "      <th>3</th>\n",
       "      <td>Killed</td>\n",
       "      <td>Females</td>\n",
       "      <td>Drivers of car</td>\n",
       "      <td>Persons killed or injured</td>\n",
       "      <td>2024M06</td>\n",
       "      <td>0</td>\n",
       "    </tr>\n",
       "    <tr>\n",
       "      <th>4</th>\n",
       "      <td>Killed</td>\n",
       "      <td>Females</td>\n",
       "      <td>Drivers of car</td>\n",
       "      <td>Persons killed or injured</td>\n",
       "      <td>2024M07</td>\n",
       "      <td>0</td>\n",
       "    </tr>\n",
       "  </tbody>\n",
       "</table>\n",
       "</div>"
      ],
      "text/plain": [
       "  degree of damage      sex group of road user                   contents  \\\n",
       "0           Killed  Females     Drivers of car  Persons killed or injured   \n",
       "1           Killed  Females     Drivers of car  Persons killed or injured   \n",
       "2           Killed  Females     Drivers of car  Persons killed or injured   \n",
       "3           Killed  Females     Drivers of car  Persons killed or injured   \n",
       "4           Killed  Females     Drivers of car  Persons killed or injured   \n",
       "\n",
       "     month  value  \n",
       "0  1999M01      2  \n",
       "1  1999M02      3  \n",
       "2  1999M03      1  \n",
       "3  2024M06      0  \n",
       "4  2024M07      0  "
      ]
     },
     "execution_count": 2,
     "metadata": {},
     "output_type": "execute_result"
    }
   ],
   "source": [
    "# Extract DataFrame from JSON-stat\n",
    "dataset = pyjstat.Dataset.read(result.text)\n",
    "df = dataset.write('dataframe')\n",
    "print(df.shape)\n",
    "df.head()"
   ]
  },
  {
   "cell_type": "code",
   "execution_count": 3,
   "id": "8ce9c579",
   "metadata": {},
   "outputs": [
    {
     "name": "stdout",
     "output_type": "stream",
     "text": [
      "<Response [200]>\n"
     ]
    }
   ],
   "source": [
    "# New payload with less restrictions\n",
    "payload = { \"query\": [ { \"code\": \"Skadegrad\", \"selection\": { \"filter\": \"all\", \"values\": [ \"*\" ] } }, \n",
    "                      { \"code\": \"Kjonn\", \"selection\": { \"filter\": \"all\", \"values\": [ \"*\" ] } }, \n",
    "                      { \"code\": \"Trafikkantgruppe\", \"selection\": { \"filter\": \"all\", \"values\": [ \"*\" ] } }, \n",
    "                      { \"code\": \"ContentsCode\", \"selection\": { \"filter\": \"all\", \"values\": [ \"*\" ] } }, \n",
    "                      { \"code\": \"Tid\", \"selection\": { \"filter\": \"all\", \"values\": [ \"*\" ] } } \n",
    "                      ], \n",
    "                      \"response\": { \"format\": \"json-stat2\" } }\n",
    "\n",
    "result = requests.post(POST_URL, json = payload)\n",
    "print(result) # 200 = OK"
   ]
  },
  {
   "cell_type": "code",
   "execution_count": 4,
   "id": "13ebba07",
   "metadata": {},
   "outputs": [
    {
     "name": "stdout",
     "output_type": "stream",
     "text": [
      "(30816, 6)\n"
     ]
    },
    {
     "data": {
      "text/html": [
       "<div>\n",
       "<style scoped>\n",
       "    .dataframe tbody tr th:only-of-type {\n",
       "        vertical-align: middle;\n",
       "    }\n",
       "\n",
       "    .dataframe tbody tr th {\n",
       "        vertical-align: top;\n",
       "    }\n",
       "\n",
       "    .dataframe thead th {\n",
       "        text-align: right;\n",
       "    }\n",
       "</style>\n",
       "<table border=\"1\" class=\"dataframe\">\n",
       "  <thead>\n",
       "    <tr style=\"text-align: right;\">\n",
       "      <th></th>\n",
       "      <th>degree of damage</th>\n",
       "      <th>sex</th>\n",
       "      <th>group of road user</th>\n",
       "      <th>contents</th>\n",
       "      <th>month</th>\n",
       "      <th>value</th>\n",
       "    </tr>\n",
       "  </thead>\n",
       "  <tbody>\n",
       "    <tr>\n",
       "      <th>0</th>\n",
       "      <td>Killed</td>\n",
       "      <td>Females</td>\n",
       "      <td>Drivers of car</td>\n",
       "      <td>Persons killed or injured</td>\n",
       "      <td>1999M01</td>\n",
       "      <td>2</td>\n",
       "    </tr>\n",
       "    <tr>\n",
       "      <th>1</th>\n",
       "      <td>Killed</td>\n",
       "      <td>Females</td>\n",
       "      <td>Drivers of car</td>\n",
       "      <td>Persons killed or injured</td>\n",
       "      <td>1999M02</td>\n",
       "      <td>3</td>\n",
       "    </tr>\n",
       "    <tr>\n",
       "      <th>2</th>\n",
       "      <td>Killed</td>\n",
       "      <td>Females</td>\n",
       "      <td>Drivers of car</td>\n",
       "      <td>Persons killed or injured</td>\n",
       "      <td>1999M03</td>\n",
       "      <td>1</td>\n",
       "    </tr>\n",
       "    <tr>\n",
       "      <th>3</th>\n",
       "      <td>Killed</td>\n",
       "      <td>Females</td>\n",
       "      <td>Drivers of car</td>\n",
       "      <td>Persons killed or injured</td>\n",
       "      <td>1999M04</td>\n",
       "      <td>3</td>\n",
       "    </tr>\n",
       "    <tr>\n",
       "      <th>4</th>\n",
       "      <td>Killed</td>\n",
       "      <td>Females</td>\n",
       "      <td>Drivers of car</td>\n",
       "      <td>Persons killed or injured</td>\n",
       "      <td>1999M05</td>\n",
       "      <td>3</td>\n",
       "    </tr>\n",
       "  </tbody>\n",
       "</table>\n",
       "</div>"
      ],
      "text/plain": [
       "  degree of damage      sex group of road user                   contents  \\\n",
       "0           Killed  Females     Drivers of car  Persons killed or injured   \n",
       "1           Killed  Females     Drivers of car  Persons killed or injured   \n",
       "2           Killed  Females     Drivers of car  Persons killed or injured   \n",
       "3           Killed  Females     Drivers of car  Persons killed or injured   \n",
       "4           Killed  Females     Drivers of car  Persons killed or injured   \n",
       "\n",
       "     month  value  \n",
       "0  1999M01      2  \n",
       "1  1999M02      3  \n",
       "2  1999M03      1  \n",
       "3  1999M04      3  \n",
       "4  1999M05      3  "
      ]
     },
     "execution_count": 4,
     "metadata": {},
     "output_type": "execute_result"
    }
   ],
   "source": [
    "dataset = pyjstat.Dataset.read(result.text)\n",
    "df_all = dataset.write('dataframe')\n",
    "print(df_all.shape)\n",
    "df_all.head()"
   ]
  },
  {
   "cell_type": "code",
   "execution_count": 5,
   "id": "fc13c07f",
   "metadata": {},
   "outputs": [
    {
     "name": "stdout",
     "output_type": "stream",
     "text": [
      "<Response [400]>\n"
     ]
    }
   ],
   "source": [
    "# API for Statistics Norway, table of traffic accidents\n",
    "POST_URL = 'https://data.ssb.no/api/v0/en/table/1068'\n",
    "# Paste the URL into a browser to see all the options\n",
    "\n",
    "# The payload is the JSON-stat dataset identifier\n",
    "payload = { \"query\": [], \n",
    "                      \"response\": { \"format\": \"json-stat2\" } }\n",
    "\n",
    "result = requests.post(POST_URL, json = payload)\n",
    "print(result) # 200 = OK"
   ]
  },
  {
   "cell_type": "code",
   "execution_count": 6,
   "id": "c9ff49cf",
   "metadata": {},
   "outputs": [
    {
     "ename": "AttributeError",
     "evalue": "'str' object has no attribute 'get'",
     "output_type": "error",
     "traceback": [
      "\u001b[31m---------------------------------------------------------------------------\u001b[39m",
      "\u001b[31mAttributeError\u001b[39m                            Traceback (most recent call last)",
      "\u001b[36mCell\u001b[39m\u001b[36m \u001b[39m\u001b[32mIn[6]\u001b[39m\u001b[32m, line 3\u001b[39m\n\u001b[32m      1\u001b[39m \u001b[38;5;66;03m# Extract DataFrame from JSON-stat\u001b[39;00m\n\u001b[32m      2\u001b[39m dataset = pyjstat.Dataset.read(result.text)\n\u001b[32m----> \u001b[39m\u001b[32m3\u001b[39m df = \u001b[43mdataset\u001b[49m\u001b[43m.\u001b[49m\u001b[43mwrite\u001b[49m\u001b[43m(\u001b[49m\u001b[33;43m'\u001b[39;49m\u001b[33;43mdataframe\u001b[39;49m\u001b[33;43m'\u001b[39;49m\u001b[43m)\u001b[49m\n\u001b[32m      4\u001b[39m \u001b[38;5;28mprint\u001b[39m(df.shape)\n\u001b[32m      5\u001b[39m df.head()\n",
      "\u001b[36mFile \u001b[39m\u001b[32mc:\\Users\\saraa\\anaconda3\\envs\\IND320_SMAA\\Lib\\site-packages\\pyjstat\\pyjstat.py:866\u001b[39m, in \u001b[36mDataset.write\u001b[39m\u001b[34m(self, output, naming, value)\u001b[39m\n\u001b[32m    864\u001b[39m     \u001b[38;5;28;01mreturn\u001b[39;00m json.dumps(OrderedDict(\u001b[38;5;28mself\u001b[39m), \u001b[38;5;28mcls\u001b[39m=NumpyEncoder)\n\u001b[32m    865\u001b[39m \u001b[38;5;28;01melif\u001b[39;00m output == \u001b[33m'\u001b[39m\u001b[33mdataframe\u001b[39m\u001b[33m'\u001b[39m:\n\u001b[32m--> \u001b[39m\u001b[32m866\u001b[39m     \u001b[38;5;28;01mreturn\u001b[39;00m \u001b[43mfrom_json_stat\u001b[49m\u001b[43m(\u001b[49m\u001b[38;5;28;43mself\u001b[39;49m\u001b[43m,\u001b[49m\u001b[43m \u001b[49m\u001b[43mnaming\u001b[49m\u001b[43m=\u001b[49m\u001b[43mnaming\u001b[49m\u001b[43m,\u001b[49m\u001b[43m \u001b[49m\u001b[43mvalue\u001b[49m\u001b[43m=\u001b[49m\u001b[43mvalue\u001b[49m\u001b[43m)\u001b[49m[\u001b[32m0\u001b[39m]\n\u001b[32m    867\u001b[39m \u001b[38;5;28;01melse\u001b[39;00m:\n\u001b[32m    868\u001b[39m     \u001b[38;5;28;01mraise\u001b[39;00m \u001b[38;5;167;01mValueError\u001b[39;00m(\u001b[33m\"\u001b[39m\u001b[33mAllowed arguments are \u001b[39m\u001b[33m'\u001b[39m\u001b[33mjsonstat\u001b[39m\u001b[33m'\u001b[39m\u001b[33m or \u001b[39m\u001b[33m'\u001b[39m\u001b[33mdataframe\u001b[39m\u001b[33m'\u001b[39m\u001b[33m\"\u001b[39m)\n",
      "\u001b[36mFile \u001b[39m\u001b[32mc:\\Users\\saraa\\anaconda3\\envs\\IND320_SMAA\\Lib\\site-packages\\pyjstat\\pyjstat.py:441\u001b[39m, in \u001b[36mfrom_json_stat\u001b[39m\u001b[34m(datasets, naming, value)\u001b[39m\n\u001b[32m    439\u001b[39m         \u001b[38;5;28;01mfor\u001b[39;00m dataset \u001b[38;5;129;01min\u001b[39;00m datasets:\n\u001b[32m    440\u001b[39m             js_dict = datasets[dataset]\n\u001b[32m--> \u001b[39m\u001b[32m441\u001b[39m             results.append(\u001b[43mgenerate_df\u001b[49m\u001b[43m(\u001b[49m\u001b[43mjs_dict\u001b[49m\u001b[43m,\u001b[49m\u001b[43m \u001b[49m\u001b[43mnaming\u001b[49m\u001b[43m,\u001b[49m\u001b[43m \u001b[49m\u001b[43mvalue\u001b[49m\u001b[43m)\u001b[49m)\n\u001b[32m    442\u001b[39m \u001b[38;5;28;01mreturn\u001b[39;00m results\n",
      "\u001b[36mFile \u001b[39m\u001b[32mc:\\Users\\saraa\\anaconda3\\envs\\IND320_SMAA\\Lib\\site-packages\\pyjstat\\pyjstat.py:392\u001b[39m, in \u001b[36mgenerate_df\u001b[39m\u001b[34m(js_dict, naming, value)\u001b[39m\n\u001b[32m    376\u001b[39m \u001b[38;5;250m\u001b[39m\u001b[33;03m\"\"\"Decode JSON-stat dict into pandas.DataFrame object.\u001b[39;00m\n\u001b[32m    377\u001b[39m \n\u001b[32m    378\u001b[39m \u001b[33;03mHelper method that should be called inside from_json_stat().\u001b[39;00m\n\u001b[32m   (...)\u001b[39m\u001b[32m    389\u001b[39m \n\u001b[32m    390\u001b[39m \u001b[33;03m\"\"\"\u001b[39;00m\n\u001b[32m    391\u001b[39m values = []\n\u001b[32m--> \u001b[39m\u001b[32m392\u001b[39m dimensions, dim_names = \u001b[43mget_dimensions\u001b[49m\u001b[43m(\u001b[49m\u001b[43mjs_dict\u001b[49m\u001b[43m,\u001b[49m\u001b[43m \u001b[49m\u001b[43mnaming\u001b[49m\u001b[43m)\u001b[49m\n\u001b[32m    393\u001b[39m values = get_values(js_dict, value=value)\n\u001b[32m    394\u001b[39m output = pd.DataFrame([category + [values[i]]\n\u001b[32m    395\u001b[39m                        \u001b[38;5;28;01mfor\u001b[39;00m i, category \u001b[38;5;129;01min\u001b[39;00m\n\u001b[32m    396\u001b[39m                        \u001b[38;5;28menumerate\u001b[39m(get_df_row(dimensions, naming))])\n",
      "\u001b[36mFile \u001b[39m\u001b[32mc:\\Users\\saraa\\anaconda3\\envs\\IND320_SMAA\\Lib\\site-packages\\pyjstat\\pyjstat.py:185\u001b[39m, in \u001b[36mget_dimensions\u001b[39m\u001b[34m(js_dict, naming)\u001b[39m\n\u001b[32m    183\u001b[39m dimensions = []\n\u001b[32m    184\u001b[39m dim_names = []\n\u001b[32m--> \u001b[39m\u001b[32m185\u001b[39m \u001b[38;5;28;01mif\u001b[39;00m \u001b[43mcheck_version_2\u001b[49m\u001b[43m(\u001b[49m\u001b[43mjs_dict\u001b[49m\u001b[43m)\u001b[49m:\n\u001b[32m    186\u001b[39m     dimension_dict = js_dict\n\u001b[32m    187\u001b[39m \u001b[38;5;28;01melse\u001b[39;00m:\n",
      "\u001b[36mFile \u001b[39m\u001b[32mc:\\Users\\saraa\\anaconda3\\envs\\IND320_SMAA\\Lib\\site-packages\\pyjstat\\pyjstat.py:121\u001b[39m, in \u001b[36mcheck_version_2\u001b[39m\u001b[34m(dataset)\u001b[39m\n\u001b[32m    103\u001b[39m \u001b[38;5;28;01mdef\u001b[39;00m\u001b[38;5;250m \u001b[39m\u001b[34mcheck_version_2\u001b[39m(dataset):\n\u001b[32m    104\u001b[39m \u001b[38;5;250m    \u001b[39m\u001b[33;03m\"\"\"Check for json-stat version.\u001b[39;00m\n\u001b[32m    105\u001b[39m \n\u001b[32m    106\u001b[39m \u001b[33;03m    Check if json-stat version attribute exists and is equal or greater\u001b[39;00m\n\u001b[32m   (...)\u001b[39m\u001b[32m    118\u001b[39m \n\u001b[32m    119\u001b[39m \u001b[33;03m    \"\"\"\u001b[39;00m\n\u001b[32m    120\u001b[39m     \u001b[38;5;28;01mif\u001b[39;00m \u001b[38;5;28mfloat\u001b[39m(dataset.get(\u001b[33m'\u001b[39m\u001b[33mversion\u001b[39m\u001b[33m'\u001b[39m)) >= \u001b[32m2.0\u001b[39m \\\n\u001b[32m--> \u001b[39m\u001b[32m121\u001b[39m             \u001b[38;5;28;01mif\u001b[39;00m \u001b[43mdataset\u001b[49m\u001b[43m.\u001b[49m\u001b[43mget\u001b[49m(\u001b[33m'\u001b[39m\u001b[33mversion\u001b[39m\u001b[33m'\u001b[39m) \u001b[38;5;28;01melse\u001b[39;00m \u001b[38;5;28;01mFalse\u001b[39;00m:\n\u001b[32m    122\u001b[39m         \u001b[38;5;28;01mif\u001b[39;00m \u001b[33m'\u001b[39m\u001b[33mid\u001b[39m\u001b[33m'\u001b[39m \u001b[38;5;129;01mnot\u001b[39;00m \u001b[38;5;129;01min\u001b[39;00m dataset:\n\u001b[32m    123\u001b[39m             \u001b[38;5;66;03m# Some datasets claim to be 2.0, but don't have version 2 structure.\u001b[39;00m\n\u001b[32m    124\u001b[39m             \u001b[38;5;28;01mreturn\u001b[39;00m \u001b[38;5;28;01mFalse\u001b[39;00m\n",
      "\u001b[31mAttributeError\u001b[39m: 'str' object has no attribute 'get'"
     ]
    }
   ],
   "source": [
    "# Extract DataFrame from JSON-stat\n",
    "dataset = pyjstat.Dataset.read(result.text)\n",
    "df = dataset.write('dataframe')\n",
    "print(df.shape)\n",
    "df.head()"
   ]
  }
 ],
 "metadata": {
  "kernelspec": {
   "display_name": "IND320_SMAA",
   "language": "python",
   "name": "python3"
  },
  "language_info": {
   "codemirror_mode": {
    "name": "ipython",
    "version": 3
   },
   "file_extension": ".py",
   "mimetype": "text/x-python",
   "name": "python",
   "nbconvert_exporter": "python",
   "pygments_lexer": "ipython3",
   "version": "3.11.13"
  }
 },
 "nbformat": 4,
 "nbformat_minor": 5
}
