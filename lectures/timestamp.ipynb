{
 "cells": [
  {
   "cell_type": "code",
   "execution_count": 1,
   "id": "777025c9",
   "metadata": {},
   "outputs": [
    {
     "name": "stdout",
     "output_type": "stream",
     "text": [
      "12:38:05.2848557\n",
      "12:38:07.147455\n",
      "12:38:08.9785101\n",
      "12:38:10.2914256\n",
      "12:38:11.4149463\n",
      "12:38:12.8446946\n",
      "12:38:14.3387525\n",
      "12:38:15.4494252\n",
      "12:38:16.8595955\n",
      "12:38:18.4802177\n"
     ]
    }
   ],
   "source": [
    "import requests\n",
    "import time\n",
    "\n",
    "for _ in range(10):\n",
    "    try: \n",
    "        response = requests.get('https://timeapi.io/api/time/current/zone?timeZone=Europe%2FOslo').json()\n",
    "        print(response['dateTime'].split('T')[1])\n",
    "        time.sleep(1)\n",
    "    except: \n",
    "        print('Connection error, trying again in 1 second')\n",
    "        time.sleep(1)"
   ]
  }
 ],
 "metadata": {
  "kernelspec": {
   "display_name": "IND320_SMAA",
   "language": "python",
   "name": "python3"
  },
  "language_info": {
   "codemirror_mode": {
    "name": "ipython",
    "version": 3
   },
   "file_extension": ".py",
   "mimetype": "text/x-python",
   "name": "python",
   "nbconvert_exporter": "python",
   "pygments_lexer": "ipython3",
   "version": "3.11.13"
  }
 },
 "nbformat": 4,
 "nbformat_minor": 5
}
