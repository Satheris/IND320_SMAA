{
 "cells": [
  {
   "cell_type": "markdown",
   "id": "66db1476",
   "metadata": {},
   "source": [
    "# Assignment 3"
   ]
  },
  {
   "cell_type": "markdown",
   "id": "8bcba6c6",
   "metadata": {},
   "source": [
    "## AI usage"
   ]
  },
  {
   "cell_type": "markdown",
   "id": "86c2002d",
   "metadata": {},
   "source": [
    "## Log"
   ]
  },
  {
   "cell_type": "markdown",
   "id": "770a1676",
   "metadata": {},
   "source": [
    "## Links \n",
    "\n",
    "- Github: https://github.com/Satheris/IND320_SMAA\n",
    "- Streamlit app: https://ind320smaa-2eg32uba6uhmrknkwtxzar.streamlit.app/"
   ]
  },
  {
   "cell_type": "markdown",
   "id": "a9933f58",
   "metadata": {},
   "source": [
    "## Coding "
   ]
  }
 ],
 "metadata": {
  "language_info": {
   "name": "python"
  }
 },
 "nbformat": 4,
 "nbformat_minor": 5
}
