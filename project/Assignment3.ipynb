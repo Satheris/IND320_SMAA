{
 "cells": [
  {
   "cell_type": "markdown",
   "id": "66db1476",
   "metadata": {},
   "source": [
    "# Assignment 3"
   ]
  },
  {
   "cell_type": "markdown",
   "id": "8bcba6c6",
   "metadata": {},
   "source": [
    "## AI usage"
   ]
  },
  {
   "cell_type": "markdown",
   "id": "86c2002d",
   "metadata": {},
   "source": [
    "## Log"
   ]
  },
  {
   "cell_type": "markdown",
   "id": "770a1676",
   "metadata": {},
   "source": [
    "## Links \n",
    "\n",
    "- Github: https://github.com/Satheris/IND320_SMAA\n",
    "- Streamlit app: https://ind320smaa-2eg32uba6uhmrknkwtxzar.streamlit.app/"
   ]
  },
  {
   "cell_type": "markdown",
   "id": "a9933f58",
   "metadata": {},
   "source": [
    "## Coding "
   ]
  },
  {
   "cell_type": "markdown",
   "id": "d0db0f07",
   "metadata": {},
   "source": [
    "### Imports "
   ]
  },
  {
   "cell_type": "code",
   "execution_count": 1,
   "id": "d81406af",
   "metadata": {},
   "outputs": [],
   "source": [
    "import pandas as pd\n",
    "import numpy as np\n",
    "\n",
    "import openmeteo_requests\n",
    "import requests_cache\n",
    "from retry_requests import retry"
   ]
  },
  {
   "cell_type": "markdown",
   "id": "9188c356",
   "metadata": {},
   "source": [
    "### Download from openmeteo API"
   ]
  },
  {
   "cell_type": "code",
   "execution_count": 2,
   "id": "cf9c2b46",
   "metadata": {},
   "outputs": [
    {
     "data": {
      "text/html": [
       "<div>\n",
       "<style scoped>\n",
       "    .dataframe tbody tr th:only-of-type {\n",
       "        vertical-align: middle;\n",
       "    }\n",
       "\n",
       "    .dataframe tbody tr th {\n",
       "        vertical-align: top;\n",
       "    }\n",
       "\n",
       "    .dataframe thead th {\n",
       "        text-align: right;\n",
       "    }\n",
       "</style>\n",
       "<table border=\"1\" class=\"dataframe\">\n",
       "  <thead>\n",
       "    <tr style=\"text-align: right;\">\n",
       "      <th></th>\n",
       "      <th>priceArea</th>\n",
       "      <th>city</th>\n",
       "      <th>longitude</th>\n",
       "      <th>latitude</th>\n",
       "    </tr>\n",
       "  </thead>\n",
       "  <tbody>\n",
       "    <tr>\n",
       "      <th>0</th>\n",
       "      <td>NO1</td>\n",
       "      <td>Oslo</td>\n",
       "      <td>10.7461</td>\n",
       "      <td>59.9127</td>\n",
       "    </tr>\n",
       "    <tr>\n",
       "      <th>1</th>\n",
       "      <td>NO2</td>\n",
       "      <td>Kristiansand</td>\n",
       "      <td>7.9956</td>\n",
       "      <td>58.1467</td>\n",
       "    </tr>\n",
       "    <tr>\n",
       "      <th>2</th>\n",
       "      <td>NO3</td>\n",
       "      <td>Bergen</td>\n",
       "      <td>5.3242</td>\n",
       "      <td>60.3930</td>\n",
       "    </tr>\n",
       "    <tr>\n",
       "      <th>3</th>\n",
       "      <td>NO4</td>\n",
       "      <td>Tromsø</td>\n",
       "      <td>18.9551</td>\n",
       "      <td>69.6489</td>\n",
       "    </tr>\n",
       "    <tr>\n",
       "      <th>4</th>\n",
       "      <td>NO5</td>\n",
       "      <td>Trondheim</td>\n",
       "      <td>10.3951</td>\n",
       "      <td>63.4305</td>\n",
       "    </tr>\n",
       "  </tbody>\n",
       "</table>\n",
       "</div>"
      ],
      "text/plain": [
       "  priceArea          city  longitude  latitude\n",
       "0       NO1          Oslo    10.7461   59.9127\n",
       "1       NO2  Kristiansand     7.9956   58.1467\n",
       "2       NO3        Bergen     5.3242   60.3930\n",
       "3       NO4        Tromsø    18.9551   69.6489\n",
       "4       NO5     Trondheim    10.3951   63.4305"
      ]
     },
     "execution_count": 2,
     "metadata": {},
     "output_type": "execute_result"
    }
   ],
   "source": [
    "osloLat = 59.9127\n",
    "osloLong = 10.7461\n",
    "\n",
    "bergenLat = 60.393\n",
    "bergenLong = 5.3242\n",
    "\n",
    "trdLat = 63.4305\n",
    "trdLong = 10.3951\n",
    "\n",
    "tromsLat = 69.6489\n",
    "tromsLong = 18.9551\n",
    "\n",
    "kristLat = 58.1467\n",
    "kristLong = 7.9956\n",
    "\n",
    "citydict = {'priceArea': ['NO1', 'NO2', 'NO3', 'NO4', 'NO5'],\n",
    "            'city': ['Oslo', 'Kristiansand', 'Bergen', 'Tromsø', 'Trondheim'],\n",
    "            'longitude': [osloLong, kristLong, bergenLong, tromsLong, trdLong],\n",
    "            'latitude': [osloLat, kristLat, bergenLat, tromsLat, trdLat]}\n",
    "\n",
    "\n",
    "df = pd.DataFrame(citydict)\n",
    "\n",
    "df"
   ]
  },
  {
   "cell_type": "code",
   "execution_count": 10,
   "id": "5ee9c958",
   "metadata": {},
   "outputs": [],
   "source": [
    "# Function for reading openmeteo data \n",
    "\n",
    "def openmeteo_download(longitude, latitude, year):\n",
    "    # Setup the Open-Meteo API client with cache and retry on error\n",
    "    cache_session = requests_cache.CachedSession('.cache', expire_after = 3600)\n",
    "    retry_session = retry(cache_session, retries = 5, backoff_factor = 0.2)\n",
    "    openmeteo = openmeteo_requests.Client(session = retry_session)\n",
    "\n",
    "    # Make sure all required weather variables are listed here\n",
    "    # The order of variables in hourly or daily is important to assign them correctly below\n",
    "    url = \"https://archive-api.open-meteo.com/v1/archive\"\n",
    "    params = {\n",
    "        \"latitude\": latitude,\n",
    "        \"longitude\": longitude,\n",
    "        \"start_date\": f\"{year}-01-01\",\n",
    "        \"end_date\": f\"{year}-12-31\",\n",
    "        \"hourly\": [\"temperature_2m\", \"precipitation\", \"wind_speed_10m\", \"wind_direction_10m\", \"wind_gusts_10m\"],\n",
    "        \"models\": \"era5\",\n",
    "        \"timezone\": \"Europe/Berlin\",\n",
    "        \"wind_speed_unit\": \"ms\",\n",
    "    }\n",
    "    responses = openmeteo.weather_api(url, params=params)\n",
    "\n",
    "    return responses        "
   ]
  },
  {
   "cell_type": "code",
   "execution_count": 15,
   "id": "2f876270",
   "metadata": {},
   "outputs": [
    {
     "name": "stdout",
     "output_type": "stream",
     "text": [
      "Coordinates: 60.5°N 5.25°E\n",
      "Elevation: 17.0 m asl\n",
      "Timezone: b'Europe/Berlin'b'GMT+1'\n",
      "Timezone difference to GMT+0: 3600s\n"
     ]
    },
    {
     "data": {
      "text/html": [
       "<div>\n",
       "<style scoped>\n",
       "    .dataframe tbody tr th:only-of-type {\n",
       "        vertical-align: middle;\n",
       "    }\n",
       "\n",
       "    .dataframe tbody tr th {\n",
       "        vertical-align: top;\n",
       "    }\n",
       "\n",
       "    .dataframe thead th {\n",
       "        text-align: right;\n",
       "    }\n",
       "</style>\n",
       "<table border=\"1\" class=\"dataframe\">\n",
       "  <thead>\n",
       "    <tr style=\"text-align: right;\">\n",
       "      <th></th>\n",
       "      <th>date</th>\n",
       "      <th>temperature_2m</th>\n",
       "      <th>wind_direction_10m</th>\n",
       "      <th>wind_speed_10m</th>\n",
       "      <th>wind_gusts_10m</th>\n",
       "      <th>precipitation</th>\n",
       "    </tr>\n",
       "  </thead>\n",
       "  <tbody>\n",
       "    <tr>\n",
       "      <th>0</th>\n",
       "      <td>2018-12-31 23:00:00+00:00</td>\n",
       "      <td>6.70</td>\n",
       "      <td>0.4</td>\n",
       "      <td>11.853270</td>\n",
       "      <td>260.776154</td>\n",
       "      <td>22.700001</td>\n",
       "    </tr>\n",
       "    <tr>\n",
       "      <th>1</th>\n",
       "      <td>2019-01-01 00:00:00+00:00</td>\n",
       "      <td>6.55</td>\n",
       "      <td>0.5</td>\n",
       "      <td>13.322162</td>\n",
       "      <td>277.765076</td>\n",
       "      <td>24.400000</td>\n",
       "    </tr>\n",
       "    <tr>\n",
       "      <th>2</th>\n",
       "      <td>2019-01-01 01:00:00+00:00</td>\n",
       "      <td>6.80</td>\n",
       "      <td>0.9</td>\n",
       "      <td>13.505925</td>\n",
       "      <td>296.375275</td>\n",
       "      <td>22.299999</td>\n",
       "    </tr>\n",
       "    <tr>\n",
       "      <th>3</th>\n",
       "      <td>2019-01-01 02:00:00+00:00</td>\n",
       "      <td>6.85</td>\n",
       "      <td>0.7</td>\n",
       "      <td>14.621901</td>\n",
       "      <td>310.006195</td>\n",
       "      <td>23.700001</td>\n",
       "    </tr>\n",
       "    <tr>\n",
       "      <th>4</th>\n",
       "      <td>2019-01-01 03:00:00+00:00</td>\n",
       "      <td>6.55</td>\n",
       "      <td>0.6</td>\n",
       "      <td>15.487092</td>\n",
       "      <td>314.215271</td>\n",
       "      <td>27.400000</td>\n",
       "    </tr>\n",
       "  </tbody>\n",
       "</table>\n",
       "</div>"
      ],
      "text/plain": [
       "                       date  temperature_2m  wind_direction_10m  \\\n",
       "0 2018-12-31 23:00:00+00:00            6.70                 0.4   \n",
       "1 2019-01-01 00:00:00+00:00            6.55                 0.5   \n",
       "2 2019-01-01 01:00:00+00:00            6.80                 0.9   \n",
       "3 2019-01-01 02:00:00+00:00            6.85                 0.7   \n",
       "4 2019-01-01 03:00:00+00:00            6.55                 0.6   \n",
       "\n",
       "   wind_speed_10m  wind_gusts_10m  precipitation  \n",
       "0       11.853270      260.776154      22.700001  \n",
       "1       13.322162      277.765076      24.400000  \n",
       "2       13.505925      296.375275      22.299999  \n",
       "3       14.621901      310.006195      23.700001  \n",
       "4       15.487092      314.215271      27.400000  "
      ]
     },
     "execution_count": 15,
     "metadata": {},
     "output_type": "execute_result"
    }
   ],
   "source": [
    "responses = openmeteo_download(bergenLong, bergenLat, 2019)\n",
    "\n",
    "# Process first location. Add a for-loop for multiple locations or weather models\n",
    "response = responses[0]\n",
    "print(f\"Coordinates: {response.Latitude()}°N {response.Longitude()}°E\")\n",
    "print(f\"Elevation: {response.Elevation()} m asl\")\n",
    "print(f\"Timezone: {response.Timezone()}{response.TimezoneAbbreviation()}\")\n",
    "print(f\"Timezone difference to GMT+0: {response.UtcOffsetSeconds()}s\")\n",
    "\n",
    "# Process hourly data. The order of variables needs to be the same as requested.\n",
    "hourly = response.Hourly()\n",
    "hourly_temperature_2m = hourly.Variables(0).ValuesAsNumpy()\n",
    "hourly_wind_direction_10m = hourly.Variables(1).ValuesAsNumpy()\n",
    "hourly_wind_speed_10m = hourly.Variables(2).ValuesAsNumpy()\n",
    "hourly_wind_gusts_10m = hourly.Variables(3).ValuesAsNumpy()\n",
    "hourly_precipitation = hourly.Variables(4).ValuesAsNumpy()\n",
    "\n",
    "hourly_data = {\"date\": pd.date_range(\n",
    "\tstart = pd.to_datetime(hourly.Time(), unit = \"s\", utc = True),\n",
    "\tend =  pd.to_datetime(hourly.TimeEnd(), unit = \"s\", utc = True),\n",
    "\tfreq = pd.Timedelta(seconds = hourly.Interval()),\n",
    "\tinclusive = \"left\",\n",
    ")}\n",
    "\n",
    "hourly_data[\"temperature_2m\"] = hourly_temperature_2m\n",
    "hourly_data[\"wind_direction_10m\"] = hourly_wind_direction_10m\n",
    "hourly_data[\"wind_speed_10m\"] = hourly_wind_speed_10m\n",
    "hourly_data[\"wind_gusts_10m\"] = hourly_wind_gusts_10m\n",
    "hourly_data[\"precipitation\"] = hourly_precipitation\n",
    "\n",
    "hourly_dataframe = pd.DataFrame(data = hourly_data)\n",
    "hourly_dataframe.head()"
   ]
  },
  {
   "cell_type": "markdown",
   "id": "8b04a6b8",
   "metadata": {},
   "source": [
    "### Outliers and anomalies "
   ]
  },
  {
   "cell_type": "code",
   "execution_count": null,
   "id": "6e8a6421",
   "metadata": {},
   "outputs": [],
   "source": [
    "starttime til datetime \n",
    "\n",
    "dt.tz_convert('Europe/Oslo')\n",
    "\n",
    "merge(on='startTime')\n",
    "\n",
    "response.Hourly"
   ]
  },
  {
   "cell_type": "markdown",
   "id": "ee0d0241",
   "metadata": {},
   "source": [
    "### Seasonal-Trend decomposition using LOESS (STL)"
   ]
  },
  {
   "cell_type": "code",
   "execution_count": null,
   "id": "2b238e03",
   "metadata": {},
   "outputs": [],
   "source": []
  },
  {
   "cell_type": "code",
   "execution_count": null,
   "id": "70642d83",
   "metadata": {},
   "outputs": [],
   "source": []
  },
  {
   "cell_type": "markdown",
   "id": "a97bb3fe",
   "metadata": {},
   "source": [
    "### Spectrogram"
   ]
  },
  {
   "cell_type": "code",
   "execution_count": null,
   "id": "c3270093",
   "metadata": {},
   "outputs": [],
   "source": []
  },
  {
   "cell_type": "code",
   "execution_count": null,
   "id": "4e76a243",
   "metadata": {},
   "outputs": [],
   "source": []
  },
  {
   "cell_type": "code",
   "execution_count": null,
   "id": "0354f21e",
   "metadata": {},
   "outputs": [],
   "source": []
  },
  {
   "cell_type": "markdown",
   "id": "a8c7ad31",
   "metadata": {},
   "source": [
    "### Testing for Streamlit app"
   ]
  },
  {
   "cell_type": "code",
   "execution_count": null,
   "id": "a6503c41",
   "metadata": {},
   "outputs": [],
   "source": []
  }
 ],
 "metadata": {
  "kernelspec": {
   "display_name": "IND320_SMAA",
   "language": "python",
   "name": "python3"
  },
  "language_info": {
   "codemirror_mode": {
    "name": "ipython",
    "version": 3
   },
   "file_extension": ".py",
   "mimetype": "text/x-python",
   "name": "python",
   "nbconvert_exporter": "python",
   "pygments_lexer": "ipython3",
   "version": "3.11.13"
  }
 },
 "nbformat": 4,
 "nbformat_minor": 5
}
