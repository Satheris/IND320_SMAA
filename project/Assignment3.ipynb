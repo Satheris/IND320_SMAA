{
 "cells": [
  {
   "cell_type": "markdown",
   "id": "66db1476",
   "metadata": {},
   "source": [
    "# Assignment 3"
   ]
  },
  {
   "cell_type": "markdown",
   "id": "8bcba6c6",
   "metadata": {},
   "source": [
    "## AI usage"
   ]
  },
  {
   "cell_type": "markdown",
   "id": "86c2002d",
   "metadata": {},
   "source": [
    "## Log"
   ]
  },
  {
   "cell_type": "markdown",
   "id": "770a1676",
   "metadata": {},
   "source": [
    "## Links \n",
    "\n",
    "- Github: https://github.com/Satheris/IND320_SMAA\n",
    "- Streamlit app: https://ind320smaa-2eg32uba6uhmrknkwtxzar.streamlit.app/"
   ]
  },
  {
   "cell_type": "markdown",
   "id": "a9933f58",
   "metadata": {},
   "source": [
    "## Coding "
   ]
  },
  {
   "cell_type": "markdown",
   "id": "d0db0f07",
   "metadata": {},
   "source": [
    "### Imports "
   ]
  },
  {
   "cell_type": "code",
   "execution_count": 1,
   "id": "d81406af",
   "metadata": {},
   "outputs": [],
   "source": [
    "import pandas as pd\n",
    "import numpy as np"
   ]
  },
  {
   "cell_type": "markdown",
   "id": "9188c356",
   "metadata": {},
   "source": [
    "### blæ"
   ]
  },
  {
   "cell_type": "code",
   "execution_count": 7,
   "id": "cf9c2b46",
   "metadata": {},
   "outputs": [
    {
     "data": {
      "text/html": [
       "<div>\n",
       "<style scoped>\n",
       "    .dataframe tbody tr th:only-of-type {\n",
       "        vertical-align: middle;\n",
       "    }\n",
       "\n",
       "    .dataframe tbody tr th {\n",
       "        vertical-align: top;\n",
       "    }\n",
       "\n",
       "    .dataframe thead th {\n",
       "        text-align: right;\n",
       "    }\n",
       "</style>\n",
       "<table border=\"1\" class=\"dataframe\">\n",
       "  <thead>\n",
       "    <tr style=\"text-align: right;\">\n",
       "      <th></th>\n",
       "      <th>priceArea</th>\n",
       "      <th>city</th>\n",
       "      <th>longitude</th>\n",
       "      <th>latitude</th>\n",
       "    </tr>\n",
       "  </thead>\n",
       "  <tbody>\n",
       "    <tr>\n",
       "      <th>0</th>\n",
       "      <td>NO1</td>\n",
       "      <td>Oslo</td>\n",
       "      <td>10.7461</td>\n",
       "      <td>59.9127</td>\n",
       "    </tr>\n",
       "    <tr>\n",
       "      <th>1</th>\n",
       "      <td>NO2</td>\n",
       "      <td>Kristiansand</td>\n",
       "      <td>7.9956</td>\n",
       "      <td>58.1467</td>\n",
       "    </tr>\n",
       "    <tr>\n",
       "      <th>2</th>\n",
       "      <td>NO3</td>\n",
       "      <td>Bergen</td>\n",
       "      <td>5.3242</td>\n",
       "      <td>60.3930</td>\n",
       "    </tr>\n",
       "    <tr>\n",
       "      <th>3</th>\n",
       "      <td>NO4</td>\n",
       "      <td>Tromsø</td>\n",
       "      <td>18.9551</td>\n",
       "      <td>69.6489</td>\n",
       "    </tr>\n",
       "    <tr>\n",
       "      <th>4</th>\n",
       "      <td>NO5</td>\n",
       "      <td>Trondheim</td>\n",
       "      <td>10.3951</td>\n",
       "      <td>63.4305</td>\n",
       "    </tr>\n",
       "  </tbody>\n",
       "</table>\n",
       "</div>"
      ],
      "text/plain": [
       "  priceArea          city  longitude  latitude\n",
       "0       NO1          Oslo    10.7461   59.9127\n",
       "1       NO2  Kristiansand     7.9956   58.1467\n",
       "2       NO3        Bergen     5.3242   60.3930\n",
       "3       NO4        Tromsø    18.9551   69.6489\n",
       "4       NO5     Trondheim    10.3951   63.4305"
      ]
     },
     "execution_count": 7,
     "metadata": {},
     "output_type": "execute_result"
    }
   ],
   "source": [
    "osloLat = 59.9127\n",
    "osloLong = 10.7461\n",
    "\n",
    "bergenLat = 60.393\n",
    "bergenLong = 5.3242\n",
    "\n",
    "trdLat = 63.4305\n",
    "trdLong = 10.3951\n",
    "\n",
    "tromsLat = 69.6489\n",
    "tromsLong = 18.9551\n",
    "\n",
    "kristLat = 58.1467\n",
    "kristLong = 7.9956\n",
    "\n",
    "citydict = {'priceArea': ['NO1', 'NO2', 'NO3', 'NO4', 'NO5'],\n",
    "            'city': ['Oslo', 'Kristiansand', 'Bergen', 'Tromsø', 'Trondheim'],\n",
    "            'longitude': [osloLong, kristLong, bergenLong, tromsLong, trdLong],\n",
    "            'latitude': [osloLat, kristLat, bergenLat, tromsLat, trdLat]}\n",
    "\n",
    "\n",
    "df = pd.DataFrame(citydict)\n",
    "\n",
    "df"
   ]
  }
 ],
 "metadata": {
  "kernelspec": {
   "display_name": "IND320_SMAA",
   "language": "python",
   "name": "python3"
  },
  "language_info": {
   "codemirror_mode": {
    "name": "ipython",
    "version": 3
   },
   "file_extension": ".py",
   "mimetype": "text/x-python",
   "name": "python",
   "nbconvert_exporter": "python",
   "pygments_lexer": "ipython3",
   "version": "3.11.13"
  }
 },
 "nbformat": 4,
 "nbformat_minor": 5
}
