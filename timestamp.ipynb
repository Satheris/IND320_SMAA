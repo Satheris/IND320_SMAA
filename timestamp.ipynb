{
 "cells": [
  {
   "cell_type": "code",
   "execution_count": 8,
   "id": "777025c9",
   "metadata": {},
   "outputs": [
    {
     "name": "stdout",
     "output_type": "stream",
     "text": [
      "12:20:06.6696455\n",
      "12:20:35.891246\n",
      "12:21:05.160451\n",
      "12:21:27.4436226\n",
      "12:21:48.8450048\n",
      "12:22:11.3380946\n",
      "12:22:34.2721766\n",
      "12:22:58.5129056\n",
      "12:23:22.537649\n",
      "12:23:46.9846919\n"
     ]
    }
   ],
   "source": [
    "import requests\n",
    "import time\n",
    "\n",
    "for _ in range(10):\n",
    "    try: \n",
    "        response = requests.get('https://timeapi.io/api/time/current/zone?timeZone=Europe%2FOslo').json()\n",
    "        print(response['dateTime'].split('T')[1])\n",
    "        time.sleep(1)\n",
    "    except: \n",
    "        print('Connection error, trying again in 1 second')\n",
    "        time.sleep(1)"
   ]
  }
 ],
 "metadata": {
  "kernelspec": {
   "display_name": "IND320_SMAA",
   "language": "python",
   "name": "python3"
  },
  "language_info": {
   "codemirror_mode": {
    "name": "ipython",
    "version": 3
   },
   "file_extension": ".py",
   "mimetype": "text/x-python",
   "name": "python",
   "nbconvert_exporter": "python",
   "pygments_lexer": "ipython3",
   "version": "3.11.13"
  }
 },
 "nbformat": 4,
 "nbformat_minor": 5
}
