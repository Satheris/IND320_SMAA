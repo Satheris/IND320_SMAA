{
 "cells": [
  {
   "cell_type": "code",
   "execution_count": 1,
   "id": "777025c9",
   "metadata": {},
   "outputs": [
    {
     "name": "stdout",
     "output_type": "stream",
     "text": [
      "12:15:33.7103334\n",
      "12:16:04.4631685\n",
      "12:16:35.0782258\n",
      "12:17:05.6457494\n",
      "12:17:36.1062704\n",
      "12:18:05.6701556\n",
      "12:18:35.2577761\n",
      "12:19:04.9050247\n",
      "12:19:33.6335139\n",
      "12:20:02.7757223\n"
     ]
    }
   ],
   "source": [
    "import requests\n",
    "import time\n",
    "\n",
    "for _ in range(10):\n",
    "    try: \n",
    "        response = requests.get('https://timeapi.io/api/time/current/zone?timeZone=Europe%2FOslo').json()\n",
    "        print(response['dateTime'].split('T')[1])\n",
    "        time.sleep(1)\n",
    "    except: \n",
    "        print('Connection error, trying again in 1 second')\n",
    "        time.sleep(1)"
   ]
  }
 ],
 "metadata": {
  "kernelspec": {
   "display_name": "IND320_SMAA",
   "language": "python",
   "name": "python3"
  },
  "language_info": {
   "codemirror_mode": {
    "name": "ipython",
    "version": 3
   },
   "file_extension": ".py",
   "mimetype": "text/x-python",
   "name": "python",
   "nbconvert_exporter": "python",
   "pygments_lexer": "ipython3",
   "version": "3.11.13"
  }
 },
 "nbformat": 4,
 "nbformat_minor": 5
}
